{
 "cells": [
  {
   "cell_type": "code",
   "execution_count": 1,
   "id": "f5168125",
   "metadata": {},
   "outputs": [],
   "source": [
    "## Python Numpy library\n",
    "## In data science EDA(explority data analysis and feature engineering we use numpy)\n",
    "### How to make array in numpy and use in eda"
   ]
  },
  {
   "cell_type": "code",
   "execution_count": null,
   "id": "c13e1cf2",
   "metadata": {},
   "outputs": [],
   "source": [
    "# Numpy is a general purpose array-processing package .It provides a high performance multidimensional array object and tools for working with these arrays.It is a fundamental package for sciencific computing with Python"
   ]
  },
  {
   "cell_type": "code",
   "execution_count": 4,
   "id": "6de60160",
   "metadata": {},
   "outputs": [],
   "source": [
    "##  What is an array?\n",
    "## An array is a data structure that store the value of same datatype and this is the main difference between list and array.While list can contain different types ,in array in python only contain value of same datatype"
   ]
  },
  {
   "cell_type": "code",
   "execution_count": 6,
   "id": "d9f1a932",
   "metadata": {},
   "outputs": [],
   "source": [
    "### import the library\n",
    "import numpy as np # np is alias and numpy is package if I want to write any inbuild function we can write as alias.then function name\n"
   ]
  },
  {
   "cell_type": "code",
   "execution_count": 10,
   "id": "53e9d29d",
   "metadata": {},
   "outputs": [],
   "source": [
    "## how to make array it can be single or multidimensional array\n",
    "lst=[1,2,3,4] \n",
    "# now convert list/ or any object in array (single dimensional)\n",
    "arr=np.array(lst)"
   ]
  },
  {
   "cell_type": "code",
   "execution_count": 11,
   "id": "eab5b77f",
   "metadata": {},
   "outputs": [
    {
     "data": {
      "text/plain": [
       "numpy.ndarray"
      ]
     },
     "execution_count": 11,
     "metadata": {},
     "output_type": "execute_result"
    }
   ],
   "source": [
    "type(arr) ## nd is a generic array "
   ]
  },
  {
   "cell_type": "code",
   "execution_count": 12,
   "id": "0b5ca6d3",
   "metadata": {},
   "outputs": [
    {
     "data": {
      "text/plain": [
       "(4,)"
      ]
     },
     "execution_count": 12,
     "metadata": {},
     "output_type": "execute_result"
    }
   ],
   "source": [
    "arr.shape ## here one dimensional means one row who thats why 4,0"
   ]
  },
  {
   "cell_type": "code",
   "execution_count": 21,
   "id": "c341e817",
   "metadata": {},
   "outputs": [],
   "source": [
    "## now I want two dimensional array means I have rows and column as well means nested arry\n",
    "lst1=[1,3,5,6,7]\n",
    "lst2=[2,5,6,8,9]\n",
    "lst3=[8,9,5,6,4]\n",
    "arr1=np.array([lst1,lst2,lst3])\n"
   ]
  },
  {
   "cell_type": "code",
   "execution_count": 23,
   "id": "fe8b1294",
   "metadata": {},
   "outputs": [
    {
     "data": {
      "text/plain": [
       "(3, 5)"
      ]
     },
     "execution_count": 23,
     "metadata": {},
     "output_type": "execute_result"
    }
   ],
   "source": [
    "arr1.shape # now see three row and 5 column"
   ]
  },
  {
   "cell_type": "code",
   "execution_count": 24,
   "id": "5a2478bb",
   "metadata": {},
   "outputs": [
    {
     "data": {
      "text/plain": [
       "4"
      ]
     },
     "execution_count": 24,
     "metadata": {},
     "output_type": "execute_result"
    }
   ],
   "source": [
    "## indexing in array\n",
    "arr[3] ## elements retrive in array"
   ]
  },
  {
   "cell_type": "code",
   "execution_count": 26,
   "id": "a2ab8af6",
   "metadata": {},
   "outputs": [],
   "source": [
    "### May I change  elements in array yes we can change\n",
    "arr[3]=5\n"
   ]
  },
  {
   "cell_type": "code",
   "execution_count": 27,
   "id": "54897d6f",
   "metadata": {},
   "outputs": [
    {
     "data": {
      "text/plain": [
       "array([1, 2, 3, 5])"
      ]
     },
     "execution_count": 27,
     "metadata": {},
     "output_type": "execute_result"
    }
   ],
   "source": [
    "arr"
   ]
  },
  {
   "cell_type": "code",
   "execution_count": 29,
   "id": "39f90459",
   "metadata": {},
   "outputs": [
    {
     "data": {
      "text/plain": [
       "array([2, 3, 5])"
      ]
     },
     "execution_count": 29,
     "metadata": {},
     "output_type": "execute_result"
    }
   ],
   "source": [
    "arr[1:] # we can retrive values as per range like slicing"
   ]
  },
  {
   "cell_type": "code",
   "execution_count": 31,
   "id": "cfd94af3",
   "metadata": {},
   "outputs": [
    {
     "data": {
      "text/plain": [
       "5"
      ]
     },
     "execution_count": 31,
     "metadata": {},
     "output_type": "execute_result"
    }
   ],
   "source": [
    "arr[-1] # retrive last element"
   ]
  },
  {
   "cell_type": "code",
   "execution_count": 33,
   "id": "9465738d",
   "metadata": {},
   "outputs": [
    {
     "data": {
      "text/plain": [
       "array([1, 2, 3])"
      ]
     },
     "execution_count": 33,
     "metadata": {},
     "output_type": "execute_result"
    }
   ],
   "source": [
    "arr[:-1] # retrive the elements except last element"
   ]
  },
  {
   "cell_type": "code",
   "execution_count": 38,
   "id": "baf5a312",
   "metadata": {},
   "outputs": [
    {
     "data": {
      "text/plain": [
       "array([5, 3, 2, 1])"
      ]
     },
     "execution_count": 38,
     "metadata": {},
     "output_type": "execute_result"
    }
   ],
   "source": [
    "arr[::-1]"
   ]
  },
  {
   "cell_type": "code",
   "execution_count": 36,
   "id": "57d124da",
   "metadata": {},
   "outputs": [
    {
     "data": {
      "text/plain": [
       "array([5, 2])"
      ]
     },
     "execution_count": 36,
     "metadata": {},
     "output_type": "execute_result"
    }
   ],
   "source": [
    "arr[::-2]"
   ]
  },
  {
   "cell_type": "code",
   "execution_count": 39,
   "id": "849018f6",
   "metadata": {},
   "outputs": [],
   "source": [
    "## multi dimension  array indexing"
   ]
  },
  {
   "cell_type": "code",
   "execution_count": 40,
   "id": "55edff08",
   "metadata": {},
   "outputs": [
    {
     "data": {
      "text/plain": [
       "array([3, 5, 9])"
      ]
     },
     "execution_count": 40,
     "metadata": {},
     "output_type": "execute_result"
    }
   ],
   "source": [
    "arr1[:,1]# : means whole row and just first column"
   ]
  },
  {
   "cell_type": "code",
   "execution_count": 41,
   "id": "6918832b",
   "metadata": {},
   "outputs": [
    {
     "data": {
      "text/plain": [
       "array([[5, 6],\n",
       "       [9, 5]])"
      ]
     },
     "execution_count": 41,
     "metadata": {},
     "output_type": "execute_result"
    }
   ],
   "source": [
    "arr1[1:,1:3] # in slicing if I write 3 it retrive the before element"
   ]
  },
  {
   "cell_type": "code",
   "execution_count": 43,
   "id": "1a49eb1e",
   "metadata": {},
   "outputs": [
    {
     "data": {
      "text/plain": [
       "array([[8, 9],\n",
       "       [6, 4]])"
      ]
     },
     "execution_count": 43,
     "metadata": {},
     "output_type": "execute_result"
    }
   ],
   "source": [
    "arr1[1:,3:]"
   ]
  },
  {
   "cell_type": "code",
   "execution_count": 44,
   "id": "f853ac30",
   "metadata": {},
   "outputs": [
    {
     "data": {
      "text/plain": [
       "array([[1, 3, 5, 6, 7],\n",
       "       [2, 5, 6, 8, 9],\n",
       "       [8, 9, 5, 6, 4]])"
      ]
     },
     "execution_count": 44,
     "metadata": {},
     "output_type": "execute_result"
    }
   ],
   "source": [
    "arr1"
   ]
  },
  {
   "cell_type": "code",
   "execution_count": 50,
   "id": "bb77913f",
   "metadata": {},
   "outputs": [
    {
     "data": {
      "text/plain": [
       "array([[6, 7],\n",
       "       [8, 9],\n",
       "       [6, 4]])"
      ]
     },
     "execution_count": 50,
     "metadata": {},
     "output_type": "execute_result"
    }
   ],
   "source": [
    "# Now I want to retrive last two column\n",
    "arr1[:,3:]"
   ]
  },
  {
   "cell_type": "code",
   "execution_count": 51,
   "id": "9dbae178",
   "metadata": {},
   "outputs": [
    {
     "data": {
      "text/plain": [
       "array([1, 2, 3, 5])"
      ]
     },
     "execution_count": 51,
     "metadata": {},
     "output_type": "execute_result"
    }
   ],
   "source": [
    "## Other things to do in array in EDA point of view\n",
    "arr"
   ]
  },
  {
   "cell_type": "code",
   "execution_count": 54,
   "id": "e0480b75",
   "metadata": {},
   "outputs": [
    {
     "data": {
      "text/plain": [
       "array([ True, False, False, False])"
      ]
     },
     "execution_count": 54,
     "metadata": {},
     "output_type": "execute_result"
    }
   ],
   "source": [
    "arr<2# see here 1<2 this true so it says true and then "
   ]
  },
  {
   "cell_type": "code",
   "execution_count": 55,
   "id": "41368ddc",
   "metadata": {},
   "outputs": [
    {
     "data": {
      "text/plain": [
       "array([1])"
      ]
     },
     "execution_count": 55,
     "metadata": {},
     "output_type": "execute_result"
    }
   ],
   "source": [
    "# now if I want to retrive the element which is less that just placed the entire part inside the indexing\n",
    "arr[arr<2]"
   ]
  },
  {
   "cell_type": "code",
   "execution_count": 56,
   "id": "4861c40e",
   "metadata": {},
   "outputs": [
    {
     "data": {
      "text/plain": [
       "(4,)"
      ]
     },
     "execution_count": 56,
     "metadata": {},
     "output_type": "execute_result"
    }
   ],
   "source": [
    "arr.shape"
   ]
  },
  {
   "cell_type": "code",
   "execution_count": 57,
   "id": "2206e728",
   "metadata": {},
   "outputs": [
    {
     "data": {
      "text/plain": [
       "(3, 5)"
      ]
     },
     "execution_count": 57,
     "metadata": {},
     "output_type": "execute_result"
    }
   ],
   "source": [
    "arr1.shape"
   ]
  },
  {
   "cell_type": "code",
   "execution_count": 58,
   "id": "99c769a6",
   "metadata": {},
   "outputs": [
    {
     "data": {
      "text/plain": [
       "array([[1, 3, 5, 6, 7],\n",
       "       [2, 5, 6, 8, 9],\n",
       "       [8, 9, 5, 6, 4]])"
      ]
     },
     "execution_count": 58,
     "metadata": {},
     "output_type": "execute_result"
    }
   ],
   "source": [
    "arr1"
   ]
  },
  {
   "cell_type": "code",
   "execution_count": 59,
   "id": "3f5ae557",
   "metadata": {},
   "outputs": [
    {
     "data": {
      "text/plain": [
       "array([[1, 3, 5],\n",
       "       [6, 7, 2],\n",
       "       [5, 6, 8],\n",
       "       [9, 8, 9],\n",
       "       [5, 6, 4]])"
      ]
     },
     "execution_count": 59,
     "metadata": {},
     "output_type": "execute_result"
    }
   ],
   "source": [
    "## can we change the  shape to 5,3\n",
    "arr1.reshape(5,3)"
   ]
  },
  {
   "cell_type": "code",
   "execution_count": 60,
   "id": "09cf0195",
   "metadata": {},
   "outputs": [
    {
     "ename": "ValueError",
     "evalue": "cannot reshape array of size 15 into shape (5,4)",
     "output_type": "error",
     "traceback": [
      "\u001b[1;31m---------------------------------------------------------------------------\u001b[0m",
      "\u001b[1;31mValueError\u001b[0m                                Traceback (most recent call last)",
      "Cell \u001b[1;32mIn[60], line 1\u001b[0m\n\u001b[1;32m----> 1\u001b[0m arr1\u001b[38;5;241m.\u001b[39mreshape(\u001b[38;5;241m5\u001b[39m,\u001b[38;5;241m4\u001b[39m)\n",
      "\u001b[1;31mValueError\u001b[0m: cannot reshape array of size 15 into shape (5,4)"
     ]
    }
   ],
   "source": [
    "arr1.reshape(5,4)"
   ]
  },
  {
   "cell_type": "code",
   "execution_count": 68,
   "id": "fcf2c2b9",
   "metadata": {},
   "outputs": [
    {
     "name": "stdout",
     "output_type": "stream",
     "text": [
      "[1 2 3 4 5 6 7 8 9]\n"
     ]
    },
    {
     "data": {
      "text/plain": [
       "array([[ 1,  3,  5,  7,  9],\n",
       "       [11, 13, 15, 17, 19]])"
      ]
     },
     "execution_count": 68,
     "metadata": {},
     "output_type": "execute_result"
    }
   ],
   "source": [
    "## mechanism to create an array\n",
    "print(np.arange(1,10,1)) # start ,totalno,stop\n",
    "np.arange(1,20,2).reshape(2,5) # as it is 10 so lots of combination 2,5 5,2 ,10,1 etc"
   ]
  },
  {
   "cell_type": "code",
   "execution_count": 69,
   "id": "ffc77798",
   "metadata": {},
   "outputs": [
    {
     "data": {
      "text/plain": [
       "array([[[ 1],\n",
       "        [ 3],\n",
       "        [ 5],\n",
       "        [ 7],\n",
       "        [ 9]],\n",
       "\n",
       "       [[11],\n",
       "        [13],\n",
       "        [15],\n",
       "        [17],\n",
       "        [19]]])"
      ]
     },
     "execution_count": 69,
     "metadata": {},
     "output_type": "execute_result"
    }
   ],
   "source": [
    "np.arange(1,20,2).reshape(2,5,1)"
   ]
  },
  {
   "cell_type": "code",
   "execution_count": 70,
   "id": "48356579",
   "metadata": {},
   "outputs": [
    {
     "data": {
      "text/plain": [
       "array([ 1,  4,  9, 25])"
      ]
     },
     "execution_count": 70,
     "metadata": {},
     "output_type": "execute_result"
    }
   ],
   "source": [
    "arr*arr"
   ]
  },
  {
   "cell_type": "code",
   "execution_count": 71,
   "id": "19f080e7",
   "metadata": {},
   "outputs": [
    {
     "data": {
      "text/plain": [
       "array([[1, 3, 5, 6, 7],\n",
       "       [2, 5, 6, 8, 9],\n",
       "       [8, 9, 5, 6, 4]])"
      ]
     },
     "execution_count": 71,
     "metadata": {},
     "output_type": "execute_result"
    }
   ],
   "source": [
    "arr1"
   ]
  },
  {
   "cell_type": "code",
   "execution_count": 72,
   "id": "69811d14",
   "metadata": {},
   "outputs": [
    {
     "data": {
      "text/plain": [
       "array([[ 2,  6, 10, 12, 14],\n",
       "       [ 4, 10, 12, 16, 18],\n",
       "       [16, 18, 10, 12,  8]])"
      ]
     },
     "execution_count": 72,
     "metadata": {},
     "output_type": "execute_result"
    }
   ],
   "source": [
    "arr1*2 ## it can multiply by 2"
   ]
  },
  {
   "cell_type": "code",
   "execution_count": 73,
   "id": "9f3d1c16",
   "metadata": {},
   "outputs": [
    {
     "data": {
      "text/plain": [
       "array([[1, 3, 5, 6, 7],\n",
       "       [2, 5, 6, 8, 9],\n",
       "       [8, 9, 5, 6, 4]])"
      ]
     },
     "execution_count": 73,
     "metadata": {},
     "output_type": "execute_result"
    }
   ],
   "source": [
    "arr1"
   ]
  },
  {
   "cell_type": "code",
   "execution_count": 74,
   "id": "b7c80721",
   "metadata": {},
   "outputs": [
    {
     "data": {
      "text/plain": [
       "array([[ 1,  9, 25, 36, 49],\n",
       "       [ 4, 25, 36, 64, 81],\n",
       "       [64, 81, 25, 36, 16]])"
      ]
     },
     "execution_count": 74,
     "metadata": {},
     "output_type": "execute_result"
    }
   ],
   "source": [
    "arr1*arr1"
   ]
  },
  {
   "cell_type": "code",
   "execution_count": 75,
   "id": "49a9ecf7",
   "metadata": {},
   "outputs": [
    {
     "data": {
      "text/plain": [
       "array([[1., 1., 1.],\n",
       "       [1., 1., 1.],\n",
       "       [1., 1., 1.],\n",
       "       [1., 1., 1.],\n",
       "       [1., 1., 1.]])"
      ]
     },
     "execution_count": 75,
     "metadata": {},
     "output_type": "execute_result"
    }
   ],
   "source": [
    "## Another in build functions\n",
    "np.ones((5,3)) # five rows of 1 and three columns of 1"
   ]
  },
  {
   "cell_type": "code",
   "execution_count": 76,
   "id": "6cd7e38a",
   "metadata": {},
   "outputs": [
    {
     "data": {
      "text/plain": [
       "array([[0., 0., 0., 0., 0.],\n",
       "       [0., 0., 0., 0., 0.],\n",
       "       [0., 0., 0., 0., 0.],\n",
       "       [0., 0., 0., 0., 0.]])"
      ]
     },
     "execution_count": 76,
     "metadata": {},
     "output_type": "execute_result"
    }
   ],
   "source": [
    "np.zeros((4,5))"
   ]
  },
  {
   "cell_type": "code",
   "execution_count": 80,
   "id": "783491bf",
   "metadata": {},
   "outputs": [
    {
     "data": {
      "text/plain": [
       "33"
      ]
     },
     "execution_count": 80,
     "metadata": {},
     "output_type": "execute_result"
    }
   ],
   "source": [
    "### Can arrays be a random\n",
    "np.random.randint(10,50) "
   ]
  },
  {
   "cell_type": "code",
   "execution_count": 82,
   "id": "8f90b1a3",
   "metadata": {},
   "outputs": [
    {
     "data": {
      "text/plain": [
       "array([[16, 36],\n",
       "       [34, 34]])"
      ]
     },
     "execution_count": 82,
     "metadata": {},
     "output_type": "execute_result"
    }
   ],
   "source": [
    "np.random.randint(10,50,4).reshape(2,2) # I can also mention size as well"
   ]
  },
  {
   "cell_type": "code",
   "execution_count": null,
   "id": "8c21bd74",
   "metadata": {},
   "outputs": [],
   "source": []
  }
 ],
 "metadata": {
  "kernelspec": {
   "display_name": "Python 3 (ipykernel)",
   "language": "python",
   "name": "python3"
  },
  "language_info": {
   "codemirror_mode": {
    "name": "ipython",
    "version": 3
   },
   "file_extension": ".py",
   "mimetype": "text/x-python",
   "name": "python",
   "nbconvert_exporter": "python",
   "pygments_lexer": "ipython3",
   "version": "3.11.5"
  }
 },
 "nbformat": 4,
 "nbformat_minor": 5
}
